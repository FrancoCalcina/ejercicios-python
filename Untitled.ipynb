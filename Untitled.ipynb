{
 "cells": [
  {
   "cell_type": "markdown",
   "metadata": {},
   "source": [
    "# Ejercicios"
   ]
  },
  {
   "cell_type": "code",
   "execution_count": 10,
   "metadata": {},
   "outputs": [
    {
     "name": "stdout",
     "output_type": "stream",
     "text": [
      "numero1:5\n",
      "numero2:5\n",
      "0\n"
     ]
    }
   ],
   "source": [
    "# 1° ejercicio\n",
    "\n",
    "n1 = int(input(\"numero1:\"))\n",
    "n2 = int(input(\"numero2:\"))\n",
    "\n",
    "def sumar(valor1, valor2):\n",
    "       if valor1>valor2:\n",
    "          print(valor1)\n",
    "       elif valor1<valor2:\n",
    "          print(valor2)\n",
    "       else:\n",
    "          print(\"0\")\n",
    "sumar(n1,n2)"
   ]
  },
  {
   "cell_type": "code",
   "execution_count": 4,
   "metadata": {},
   "outputs": [
    {
     "name": "stdout",
     "output_type": "stream",
     "text": [
      "ingrese su edad:17\n",
      "False\n"
     ]
    }
   ],
   "source": [
    "# 2° ejercicio\n",
    "\n",
    "n1= int(input(\"ingrese su edad:\"))\n",
    "\n",
    "def edad (numero):\n",
    "    n=True\n",
    "    m=False\n",
    "    if numero>=18:\n",
    "        print(n)\n",
    "        \n",
    "    else:\n",
    "        print(m)\n",
    "        \n",
    "edad(n1)"
   ]
  },
  {
   "cell_type": "code",
   "execution_count": 4,
   "metadata": {},
   "outputs": [
    {
     "name": "stdout",
     "output_type": "stream",
     "text": [
      "n° de empleados:25\n",
      "cuanto factura--millones--:25\n",
      "balance--millones--:4\n",
      "es microempresa?\n",
      "True\n"
     ]
    }
   ],
   "source": [
    "# 3° ejercicio\n",
    "n1= int(input(\"n° de empleados:\"))\n",
    "n2= int(input(\"cuanto factura--millones--:\"))\n",
    "n3= int(input(\"balance--millones--:\"))\n",
    "\n",
    "print(\"es microempresa?\")\n",
    "def empresa (dato1, dato2,dato3):\n",
    "    n=True\n",
    "    m=False\n",
    "    if dato1<50 and dato2<30 and dato3<=5 :\n",
    "        print(n)\n",
    "    else:\n",
    "        print(m)\n",
    "empresa(n1,n2,n3)        \n",
    "        \n",
    "\n",
    "        "
   ]
  },
  {
   "cell_type": "code",
   "execution_count": 6,
   "metadata": {},
   "outputs": [
    {
     "name": "stdout",
     "output_type": "stream",
     "text": [
      "n° de horas:30\n",
      "pago por hora:2\n",
      "60\n"
     ]
    }
   ],
   "source": [
    "# 4°ejercicio\n",
    "n1= int(input(\"n° de horas:\"))\n",
    "n2= int(input(\"pago por hora:\"))\n",
    "\n",
    "def salario(d1, d2):\n",
    "    if d1>40:\n",
    "        print(d1*d2*1.5)\n",
    "    else:\n",
    "        print(d1*d2)\n",
    "\n",
    "salario(n1, n2) \n",
    "\n",
    "  "
   ]
  },
  {
   "cell_type": "code",
   "execution_count": 7,
   "metadata": {},
   "outputs": [
    {
     "name": "stdout",
     "output_type": "stream",
     "text": [
      "ingrese nota:5\n",
      "APROBADO\n"
     ]
    }
   ],
   "source": [
    "# 5° ejercicio\n",
    "n1= int(input(\"ingrese nota:\"))\n",
    "\n",
    "def valores(d1):\n",
    "    if d1>=0 and d1<5:\n",
    "        print(\"SUSPENSO\")\n",
    "    elif d1>=5 and d1<7:\n",
    "        print(\"APROBADO\")\n",
    "    elif d1>=7 and d1<9:\n",
    "        print(\"NOTABLE\")\n",
    "    elif d1>=9 and d1<10:\n",
    "        print(\"SOBRESALIENTE\")\n",
    "    else:\n",
    "        print(\"incorrecto\")\n",
    "valores(n1)        \n",
    "        "
   ]
  },
  {
   "cell_type": "code",
   "execution_count": 10,
   "metadata": {},
   "outputs": [
    {
     "name": "stdout",
     "output_type": "stream",
     "text": [
      "numero de horas:5\n",
      "valor por hora:5\n",
      "23.1625\n"
     ]
    }
   ],
   "source": [
    "# 6° ejercicio\n",
    "n1= int(input(\"numero de horas:\"))\n",
    "n2= int(input(\"valor por hora:\"))\n",
    "\n",
    "def salarito(d1,d2):\n",
    "    mi=d1*d2\n",
    "    s=(9.35/100)*mi\n",
    "    b=0.02*mi\n",
    "    miFinal=mi-s+b\n",
    "    print(miFinal)\n",
    "salarito(n1, n2)    \n",
    "    \n",
    "\n"
   ]
  },
  {
   "cell_type": "code",
   "execution_count": 12,
   "metadata": {},
   "outputs": [
    {
     "name": "stdout",
     "output_type": "stream",
     "text": [
      "estatura --centimetros--:70\n",
      "peso--kilos--:50\n",
      "24.5\n"
     ]
    }
   ],
   "source": [
    "# 7° ejercicio\n",
    "n1= int(input(\"estatura --centimetros--:\"))\n",
    "n2= int(input(\"peso--kilos--:\"))\n",
    "\n",
    "def imc(d1, d2):\n",
    "    metros=100/d1\n",
    "    indice=d2/(metros**2)\n",
    "    print(indice)\n",
    "imc(n1, n2)    "
   ]
  },
  {
   "cell_type": "code",
   "execution_count": 16,
   "metadata": {},
   "outputs": [
    {
     "name": "stdout",
     "output_type": "stream",
     "text": [
      "Deficientes:29 \n",
      " Regulares:0 \n",
      " Buenos:0 \n",
      " Excelentes:0\n"
     ]
    }
   ],
   "source": [
    "# 8° ejercicio\n",
    "import random\n",
    "my_list=[]\n",
    "for i in range(0, 30):\n",
    "    my_list.append(5)  # en ves del 5 seria el random\n",
    "Deficientes=0\n",
    "Regulares=0\n",
    "Buenos=0\n",
    "Excelentes=0\n",
    "for elemento in my_list:\n",
    "    if elemento>=0 and elemento<6:\n",
    "        Deficientes += 1\n",
    "    elif elemento>=6 and elemento<11:\n",
    "        Regulares += 1\n",
    "    elif elemento>=11 and elemento<16:\n",
    "        Buenos += 1\n",
    "    elif elemento>=16 and elemento<21:\n",
    "        Excelentes += 1\n",
    "print(\"Deficientes:{} \\n Regulares:{} \\n Buenos:{} \\n Excelentes:{}\".format(Deficientes, Regulares, Buenos, Excelentes))    "
   ]
  },
  {
   "cell_type": "code",
   "execution_count": null,
   "metadata": {},
   "outputs": [],
   "source": [
    "# 9° ejercicio\n",
    "my_list=[]\n",
    "for i in my_list:\n",
    "    my_list.append(input(\"introduce palabra a la lista:\"))\n",
    "while True:\n",
    "    nuevo=input(\"introduce palabra a buscar:\")\n",
    "    if nuevo == \"fin\":\n",
    "        print(\"eligio salir\")\n",
    "        break\n",
    "    else:    \n",
    "        for element in my_lyst:\n",
    "            if element==nuevo:\n",
    "                print(\"la palabra se encuentra en la lista!\")"
   ]
  },
  {
   "cell_type": "code",
   "execution_count": null,
   "metadata": {},
   "outputs": [],
   "source": []
  }
 ],
 "metadata": {
  "kernelspec": {
   "display_name": "Python 3",
   "language": "python",
   "name": "python3"
  },
  "language_info": {
   "codemirror_mode": {
    "name": "ipython",
    "version": 3
   },
   "file_extension": ".py",
   "mimetype": "text/x-python",
   "name": "python",
   "nbconvert_exporter": "python",
   "pygments_lexer": "ipython3",
   "version": "3.8.3"
  }
 },
 "nbformat": 4,
 "nbformat_minor": 4
}
